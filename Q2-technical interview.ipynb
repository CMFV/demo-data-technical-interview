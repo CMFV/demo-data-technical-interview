{
 "cells": [
  {
   "cell_type": "markdown",
   "metadata": {},
   "source": [
    "# TOP 500 supercomputer mining - Challenge 2\n",
    "\n",
    "In this challenge use Pandas to read the search results data in your MySQL table. Create a DataFrame that contains all the search results, then generate a data visualization plot (or several) from the DataFrame.\n",
    "\n",
    "Try to answer the following questions:\n",
    "\n",
    "* Is there a relationship between year and consumed power?\n",
    "* And between power and cores?\n",
    "* Which is the company with more supercomputers?\n",
    "* Which country have more computacional power?\n",
    "* The computacional power has increased over the years?"
   ]
  },
  {
   "cell_type": "code",
   "execution_count": 1,
   "metadata": {},
   "outputs": [],
   "source": [
    "# Your code here"
   ]
  },
  {
   "cell_type": "code",
   "execution_count": 2,
   "metadata": {},
   "outputs": [],
   "source": [
    "import mysql.connector \n",
    "import pandas as pd                   \n",
    "import matplotlib.pyplot as plt\n",
    "%matplotlib inline\n",
    "import seaborn as sns"
   ]
  },
  {
   "cell_type": "code",
   "execution_count": 3,
   "metadata": {},
   "outputs": [],
   "source": [
    "db = mysql.connector.connect(host='localhost', user='admin', passwd='password', database='SuperComputers')\n",
    "\n",
    "cursor = db.cursor()\n",
    "\n",
    "cursor.execute('select * from top_500')\n",
    "\n",
    "data = cursor.fetchall()\n"
   ]
  },
  {
   "cell_type": "code",
   "execution_count": 4,
   "metadata": {},
   "outputs": [
    {
     "name": "stdout",
     "output_type": "stream",
     "text": [
      "Data readed from MySQL.\n"
     ]
    },
    {
     "data": {
      "text/html": [
       "<div>\n",
       "<style scoped>\n",
       "    .dataframe tbody tr th:only-of-type {\n",
       "        vertical-align: middle;\n",
       "    }\n",
       "\n",
       "    .dataframe tbody tr th {\n",
       "        vertical-align: top;\n",
       "    }\n",
       "\n",
       "    .dataframe thead th {\n",
       "        text-align: right;\n",
       "    }\n",
       "</style>\n",
       "<table border=\"1\" class=\"dataframe\">\n",
       "  <thead>\n",
       "    <tr style=\"text-align: right;\">\n",
       "      <th></th>\n",
       "      <th>ranking</th>\n",
       "      <th>name</th>\n",
       "      <th>year</th>\n",
       "      <th>description</th>\n",
       "      <th>company</th>\n",
       "      <th>country</th>\n",
       "      <th>cores</th>\n",
       "      <th>rmax</th>\n",
       "      <th>rpeak</th>\n",
       "      <th>power</th>\n",
       "    </tr>\n",
       "  </thead>\n",
       "  <tbody>\n",
       "    <tr>\n",
       "      <th>0</th>\n",
       "      <td>1</td>\n",
       "      <td>Tianhe-2A</td>\n",
       "      <td>2014</td>\n",
       "      <td>National Super Computer Center in Guangzhou Cl...</td>\n",
       "      <td>NUDT</td>\n",
       "      <td>China</td>\n",
       "      <td>3120000</td>\n",
       "      <td>33862.7</td>\n",
       "      <td>54902.4</td>\n",
       "      <td>17808</td>\n",
       "    </tr>\n",
       "    <tr>\n",
       "      <th>1</th>\n",
       "      <td>2</td>\n",
       "      <td>Titan</td>\n",
       "      <td>2014</td>\n",
       "      <td>DOE/SC/Oak Ridge National Laboratory XK7  Opte...</td>\n",
       "      <td>Cray Inc.</td>\n",
       "      <td>United States</td>\n",
       "      <td>560640</td>\n",
       "      <td>17590.0</td>\n",
       "      <td>27112.5</td>\n",
       "      <td>8209</td>\n",
       "    </tr>\n",
       "    <tr>\n",
       "      <th>2</th>\n",
       "      <td>3</td>\n",
       "      <td>Sequoia</td>\n",
       "      <td>2014</td>\n",
       "      <td>DOE/NNSA/LLNL BlueGene/Q  Power BQC 16C 1.60 G...</td>\n",
       "      <td>IBM</td>\n",
       "      <td>United States</td>\n",
       "      <td>1572864</td>\n",
       "      <td>17173.2</td>\n",
       "      <td>20132.7</td>\n",
       "      <td>7890</td>\n",
       "    </tr>\n",
       "    <tr>\n",
       "      <th>3</th>\n",
       "      <td>4</td>\n",
       "      <td>K computer</td>\n",
       "      <td>2014</td>\n",
       "      <td>RIKEN Advanced Institute for Computational Sci...</td>\n",
       "      <td>Fujitsu</td>\n",
       "      <td>Japan</td>\n",
       "      <td>705024</td>\n",
       "      <td>10510.0</td>\n",
       "      <td>11280.4</td>\n",
       "      <td>12660</td>\n",
       "    </tr>\n",
       "    <tr>\n",
       "      <th>4</th>\n",
       "      <td>5</td>\n",
       "      <td>Mira</td>\n",
       "      <td>2014</td>\n",
       "      <td>DOE/SC/Argonne National Laboratory BlueGene/Q ...</td>\n",
       "      <td>IBM</td>\n",
       "      <td>United States</td>\n",
       "      <td>786432</td>\n",
       "      <td>8586.6</td>\n",
       "      <td>10066.3</td>\n",
       "      <td>3945</td>\n",
       "    </tr>\n",
       "  </tbody>\n",
       "</table>\n",
       "</div>"
      ],
      "text/plain": [
       "   ranking        name  year  \\\n",
       "0        1   Tianhe-2A  2014   \n",
       "1        2       Titan  2014   \n",
       "2        3     Sequoia  2014   \n",
       "3        4  K computer  2014   \n",
       "4        5        Mira  2014   \n",
       "\n",
       "                                         description    company  \\\n",
       "0  National Super Computer Center in Guangzhou Cl...       NUDT   \n",
       "1  DOE/SC/Oak Ridge National Laboratory XK7  Opte...  Cray Inc.   \n",
       "2  DOE/NNSA/LLNL BlueGene/Q  Power BQC 16C 1.60 G...        IBM   \n",
       "3  RIKEN Advanced Institute for Computational Sci...    Fujitsu   \n",
       "4  DOE/SC/Argonne National Laboratory BlueGene/Q ...        IBM   \n",
       "\n",
       "         country    cores     rmax    rpeak  power  \n",
       "0          China  3120000  33862.7  54902.4  17808  \n",
       "1  United States   560640  17590.0  27112.5   8209  \n",
       "2  United States  1572864  17173.2  20132.7   7890  \n",
       "3          Japan   705024  10510.0  11280.4  12660  \n",
       "4  United States   786432   8586.6  10066.3   3945  "
      ]
     },
     "metadata": {},
     "output_type": "display_data"
    }
   ],
   "source": [
    "df = pd.DataFrame(data, columns=cursor.column_names)\n",
    "\n",
    "print ('Data readed from MySQL.')\n",
    "\n",
    "display (df.head())"
   ]
  },
  {
   "cell_type": "code",
   "execution_count": 5,
   "metadata": {},
   "outputs": [
    {
     "name": "stdout",
     "output_type": "stream",
     "text": [
      "<class 'pandas.core.frame.DataFrame'>\n",
      "RangeIndex: 2500 entries, 0 to 2499\n",
      "Data columns (total 10 columns):\n",
      "ranking        2500 non-null int64\n",
      "name           2500 non-null object\n",
      "year           2500 non-null int64\n",
      "description    2500 non-null object\n",
      "company        2500 non-null object\n",
      "country        2500 non-null object\n",
      "cores          2500 non-null int64\n",
      "rmax           2500 non-null float64\n",
      "rpeak          2500 non-null float64\n",
      "power          2500 non-null int64\n",
      "dtypes: float64(2), int64(4), object(4)\n",
      "memory usage: 195.4+ KB\n"
     ]
    }
   ],
   "source": [
    "df.info()"
   ]
  },
  {
   "cell_type": "code",
   "execution_count": 6,
   "metadata": {},
   "outputs": [
    {
     "data": {
      "text/html": [
       "<div>\n",
       "<style scoped>\n",
       "    .dataframe tbody tr th:only-of-type {\n",
       "        vertical-align: middle;\n",
       "    }\n",
       "\n",
       "    .dataframe tbody tr th {\n",
       "        vertical-align: top;\n",
       "    }\n",
       "\n",
       "    .dataframe thead th {\n",
       "        text-align: right;\n",
       "    }\n",
       "</style>\n",
       "<table border=\"1\" class=\"dataframe\">\n",
       "  <thead>\n",
       "    <tr style=\"text-align: right;\">\n",
       "      <th></th>\n",
       "      <th>ranking</th>\n",
       "      <th>year</th>\n",
       "      <th>cores</th>\n",
       "      <th>rmax</th>\n",
       "      <th>rpeak</th>\n",
       "      <th>power</th>\n",
       "    </tr>\n",
       "  </thead>\n",
       "  <tbody>\n",
       "    <tr>\n",
       "      <th>count</th>\n",
       "      <td>2500.000000</td>\n",
       "      <td>2500.000000</td>\n",
       "      <td>2.500000e+03</td>\n",
       "      <td>2500.000000</td>\n",
       "      <td>2500.000000</td>\n",
       "      <td>2500.000000</td>\n",
       "    </tr>\n",
       "    <tr>\n",
       "      <th>mean</th>\n",
       "      <td>250.500000</td>\n",
       "      <td>2016.000000</td>\n",
       "      <td>8.964236e+04</td>\n",
       "      <td>1463.265360</td>\n",
       "      <td>2262.270280</td>\n",
       "      <td>959.638000</td>\n",
       "    </tr>\n",
       "    <tr>\n",
       "      <th>std</th>\n",
       "      <td>144.366155</td>\n",
       "      <td>1.414496</td>\n",
       "      <td>5.771423e+05</td>\n",
       "      <td>5371.739049</td>\n",
       "      <td>7649.023042</td>\n",
       "      <td>1920.819322</td>\n",
       "    </tr>\n",
       "    <tr>\n",
       "      <th>min</th>\n",
       "      <td>1.000000</td>\n",
       "      <td>2014.000000</td>\n",
       "      <td>2.992000e+03</td>\n",
       "      <td>152.900000</td>\n",
       "      <td>170.400000</td>\n",
       "      <td>0.000000</td>\n",
       "    </tr>\n",
       "    <tr>\n",
       "      <th>25%</th>\n",
       "      <td>125.750000</td>\n",
       "      <td>2015.000000</td>\n",
       "      <td>1.971200e+04</td>\n",
       "      <td>363.200000</td>\n",
       "      <td>572.200000</td>\n",
       "      <td>0.000000</td>\n",
       "    </tr>\n",
       "    <tr>\n",
       "      <th>50%</th>\n",
       "      <td>250.500000</td>\n",
       "      <td>2016.000000</td>\n",
       "      <td>3.304400e+04</td>\n",
       "      <td>715.600000</td>\n",
       "      <td>1112.900000</td>\n",
       "      <td>387.000000</td>\n",
       "    </tr>\n",
       "    <tr>\n",
       "      <th>75%</th>\n",
       "      <td>375.250000</td>\n",
       "      <td>2017.000000</td>\n",
       "      <td>5.760000e+04</td>\n",
       "      <td>1144.800000</td>\n",
       "      <td>2070.750000</td>\n",
       "      <td>1004.000000</td>\n",
       "    </tr>\n",
       "    <tr>\n",
       "      <th>max</th>\n",
       "      <td>500.000000</td>\n",
       "      <td>2018.000000</td>\n",
       "      <td>1.986000e+07</td>\n",
       "      <td>143500.000000</td>\n",
       "      <td>200795.000000</td>\n",
       "      <td>19431.000000</td>\n",
       "    </tr>\n",
       "  </tbody>\n",
       "</table>\n",
       "</div>"
      ],
      "text/plain": [
       "           ranking         year         cores           rmax          rpeak  \\\n",
       "count  2500.000000  2500.000000  2.500000e+03    2500.000000    2500.000000   \n",
       "mean    250.500000  2016.000000  8.964236e+04    1463.265360    2262.270280   \n",
       "std     144.366155     1.414496  5.771423e+05    5371.739049    7649.023042   \n",
       "min       1.000000  2014.000000  2.992000e+03     152.900000     170.400000   \n",
       "25%     125.750000  2015.000000  1.971200e+04     363.200000     572.200000   \n",
       "50%     250.500000  2016.000000  3.304400e+04     715.600000    1112.900000   \n",
       "75%     375.250000  2017.000000  5.760000e+04    1144.800000    2070.750000   \n",
       "max     500.000000  2018.000000  1.986000e+07  143500.000000  200795.000000   \n",
       "\n",
       "              power  \n",
       "count   2500.000000  \n",
       "mean     959.638000  \n",
       "std     1920.819322  \n",
       "min        0.000000  \n",
       "25%        0.000000  \n",
       "50%      387.000000  \n",
       "75%     1004.000000  \n",
       "max    19431.000000  "
      ]
     },
     "execution_count": 6,
     "metadata": {},
     "output_type": "execute_result"
    }
   ],
   "source": [
    "df.describe()"
   ]
  },
  {
   "cell_type": "code",
   "execution_count": 7,
   "metadata": {},
   "outputs": [
    {
     "data": {
      "image/png": "[encoded data removed]",
      "text/plain": [
       "<Figure size 1080x720 with 2 Axes>"
      ]
     },
     "metadata": {
      "needs_background": "light"
     },
     "output_type": "display_data"
    }
   ],
   "source": [
    "plt.figure(figsize=(15,10))\n",
    "plt.title('Correlation')\n",
    "sns.heatmap(df.corr(), annot=True);"
   ]
  },
  {
   "cell_type": "markdown",
   "metadata": {},
   "source": [
    "# Is there a relationship between year and power?"
   ]
  },
  {
   "cell_type": "code",
   "execution_count": 8,
   "metadata": {},
   "outputs": [
    {
     "data": {
      "image/png": "[encoded data removed]",
      "text/plain": [
       "<Figure size 720x504 with 1 Axes>"
      ]
     },
     "metadata": {
      "needs_background": "light"
     },
     "output_type": "display_data"
    }
   ],
   "source": [
    "by_year=df.groupby('year').sum()\n",
    "plt.figure(figsize=(10,7))\n",
    "plt.title('kW consumed by year')\n",
    "plt.ylabel('kW')\n",
    "by_year.power.plot.bar();"
   ]
  },
  {
   "cell_type": "code",
   "execution_count": 9,
   "metadata": {},
   "outputs": [
    {
     "data": {
      "image/png": "[encoded data removed]",
      "text/plain": [
       "<Figure size 720x504 with 2 Axes>"
      ]
     },
     "metadata": {
      "needs_background": "light"
     },
     "output_type": "display_data"
    }
   ],
   "source": [
    "df_year_kw=df[['year', 'power']]\n",
    "plt.figure(figsize=(10,7))\n",
    "plt.title('Correlation power-year')\n",
    "sns.heatmap(df_year_kw.corr(), annot=True);"
   ]
  },
  {
   "cell_type": "markdown",
   "metadata": {},
   "source": [
    "Apparently, there is no correlation between year and consumed power, but from 2016 to 2018 the power needed for the top 500 supercomputers has descended, almost to 2014 levels.\n"
   ]
  },
  {
   "cell_type": "markdown",
   "metadata": {},
   "source": [
    "# Is there a relationship between power and cores?"
   ]
  },
  {
   "cell_type": "code",
   "execution_count": 10,
   "metadata": {},
   "outputs": [
    {
     "data": {
      "image/png": "[encoded data removed]",
      "text/plain": [
       "<Figure size 720x504 with 2 Axes>"
      ]
     },
     "metadata": {
      "needs_background": "light"
     },
     "output_type": "display_data"
    }
   ],
   "source": [
    "plt.figure(figsize=(10,7))\n",
    "plt.title('Correlation power-cores (Pearson)')\n",
    "sns.heatmap(df[['power', 'cores']].corr(method='pearson'), annot=True);"
   ]
  },
  {
   "cell_type": "code",
   "execution_count": 11,
   "metadata": {},
   "outputs": [
    {
     "data": {
      "image/png": "[encoded data removed]",
      "text/plain": [
       "<Figure size 720x504 with 2 Axes>"
      ]
     },
     "metadata": {
      "needs_background": "light"
     },
     "output_type": "display_data"
    }
   ],
   "source": [
    "plt.figure(figsize=(10,7))\n",
    "plt.title('Correlation power-cores (Spearman)')\n",
    "sns.heatmap(df[['power', 'cores']].corr(method='spearman'), annot=True);"
   ]
  },
  {
   "cell_type": "code",
   "execution_count": 12,
   "metadata": {},
   "outputs": [
    {
     "data": {
      "image/png": "[encoded data removed]",
      "text/plain": [
       "<Figure size 720x504 with 2 Axes>"
      ]
     },
     "metadata": {
      "needs_background": "light"
     },
     "output_type": "display_data"
    }
   ],
   "source": [
    "plt.figure(figsize=(10,7))\n",
    "plt.title('Correlation power-cores (Kendall)')\n",
    "sns.heatmap(df[['power', 'cores']].corr(method='kendall'), annot=True);"
   ]
  },
  {
   "cell_type": "markdown",
   "metadata": {},
   "source": [
    "Seems like there is linear and non-linear correlation between power and cores, not much significant, but Pearson correlation in 0.36 and Spearman correlation in 0.47, meaning that to increase cores in a computer implies more power requeriments."
   ]
  },
  {
   "cell_type": "markdown",
   "metadata": {},
   "source": [
    "# Which is the company with more supercomputers?"
   ]
  },
  {
   "cell_type": "code",
   "execution_count": 13,
   "metadata": {},
   "outputs": [
    {
     "data": {
      "text/plain": [
       "HPE          696\n",
       "Lenovo       338\n",
       "Cray Inc.    289\n",
       "IBM          243\n",
       "Sugon        206\n",
       "Name: company, dtype: int64"
      ]
     },
     "execution_count": 13,
     "metadata": {},
     "output_type": "execute_result"
    }
   ],
   "source": [
    "df.company.value_counts().head()"
   ]
  },
  {
   "cell_type": "markdown",
   "metadata": {},
   "source": [
    "The 5 companies with more supercomputers are HPE, Lenovo, CRay Inc., IBM and Sugon."
   ]
  },
  {
   "cell_type": "markdown",
   "metadata": {},
   "source": [
    "# Which country have more computacional power?"
   ]
  },
  {
   "cell_type": "code",
   "execution_count": 14,
   "metadata": {},
   "outputs": [
    {
     "data": {
      "text/html": [
       "<div>\n",
       "<style scoped>\n",
       "    .dataframe tbody tr th:only-of-type {\n",
       "        vertical-align: middle;\n",
       "    }\n",
       "\n",
       "    .dataframe tbody tr th {\n",
       "        vertical-align: top;\n",
       "    }\n",
       "\n",
       "    .dataframe thead th {\n",
       "        text-align: right;\n",
       "    }\n",
       "</style>\n",
       "<table border=\"1\" class=\"dataframe\">\n",
       "  <thead>\n",
       "    <tr style=\"text-align: right;\">\n",
       "      <th></th>\n",
       "      <th>country</th>\n",
       "      <th>ranking</th>\n",
       "      <th>year</th>\n",
       "      <th>cores</th>\n",
       "      <th>rmax</th>\n",
       "      <th>rpeak</th>\n",
       "      <th>power</th>\n",
       "    </tr>\n",
       "  </thead>\n",
       "  <tbody>\n",
       "    <tr>\n",
       "      <th>0</th>\n",
       "      <td>Australia</td>\n",
       "      <td>4837</td>\n",
       "      <td>46364</td>\n",
       "      <td>967490</td>\n",
       "      <td>20337.1</td>\n",
       "      <td>29281.6</td>\n",
       "      <td>11322</td>\n",
       "    </tr>\n",
       "    <tr>\n",
       "      <th>1</th>\n",
       "      <td>Austria</td>\n",
       "      <td>2112</td>\n",
       "      <td>14111</td>\n",
       "      <td>194792</td>\n",
       "      <td>3897.9</td>\n",
       "      <td>5130.2</td>\n",
       "      <td>3028</td>\n",
       "    </tr>\n",
       "    <tr>\n",
       "      <th>2</th>\n",
       "      <td>Belgium</td>\n",
       "      <td>576</td>\n",
       "      <td>4030</td>\n",
       "      <td>27552</td>\n",
       "      <td>749.4</td>\n",
       "      <td>836.8</td>\n",
       "      <td>400</td>\n",
       "    </tr>\n",
       "    <tr>\n",
       "      <th>3</th>\n",
       "      <td>Brazil</td>\n",
       "      <td>4589</td>\n",
       "      <td>28212</td>\n",
       "      <td>286384</td>\n",
       "      <td>5392.3</td>\n",
       "      <td>7279.4</td>\n",
       "      <td>11562</td>\n",
       "    </tr>\n",
       "    <tr>\n",
       "      <th>4</th>\n",
       "      <td>Bulgaria</td>\n",
       "      <td>388</td>\n",
       "      <td>2015</td>\n",
       "      <td>20700</td>\n",
       "      <td>264.2</td>\n",
       "      <td>412.3</td>\n",
       "      <td>0</td>\n",
       "    </tr>\n",
       "  </tbody>\n",
       "</table>\n",
       "</div>"
      ],
      "text/plain": [
       "     country  ranking   year   cores     rmax    rpeak  power\n",
       "0  Australia     4837  46364  967490  20337.1  29281.6  11322\n",
       "1    Austria     2112  14111  194792   3897.9   5130.2   3028\n",
       "2    Belgium      576   4030   27552    749.4    836.8    400\n",
       "3     Brazil     4589  28212  286384   5392.3   7279.4  11562\n",
       "4   Bulgaria      388   2015   20700    264.2    412.3      0"
      ]
     },
     "execution_count": 14,
     "metadata": {},
     "output_type": "execute_result"
    }
   ],
   "source": [
    "by_country=df.groupby('country').sum().reset_index()\n",
    "by_country.head()"
   ]
  },
  {
   "cell_type": "code",
   "execution_count": 15,
   "metadata": {},
   "outputs": [
    {
     "data": {
      "text/plain": [
       "36    United States\n",
       "Name: country, dtype: object"
      ]
     },
     "execution_count": 15,
     "metadata": {},
     "output_type": "execute_result"
    }
   ],
   "source": [
    "by_country.loc[by_country.rmax==list(by_country.rmax.sort_values(ascending=False))[0]].country"
   ]
  },
  {
   "cell_type": "code",
   "execution_count": 16,
   "metadata": {},
   "outputs": [
    {
     "data": {
      "text/plain": [
       "6    China\n",
       "Name: country, dtype: object"
      ]
     },
     "execution_count": 16,
     "metadata": {},
     "output_type": "execute_result"
    }
   ],
   "source": [
    "by_country.loc[by_country.rpeak==list(by_country.rpeak.sort_values(ascending=False))[0]].country"
   ]
  },
  {
   "cell_type": "code",
   "execution_count": 17,
   "metadata": {},
   "outputs": [
    {
     "data": {
      "text/plain": [
       "6    China\n",
       "Name: country, dtype: object"
      ]
     },
     "execution_count": 17,
     "metadata": {},
     "output_type": "execute_result"
    }
   ],
   "source": [
    "by_country.loc[by_country.cores==list(by_country.cores.sort_values(ascending=False))[0]].country"
   ]
  },
  {
   "cell_type": "markdown",
   "metadata": {},
   "source": [
    "The country with the highest R-Max is USA, but the country with more R-Peak and more cores is China."
   ]
  },
  {
   "cell_type": "markdown",
   "metadata": {},
   "source": [
    "# The computacional power has increased over the years?"
   ]
  },
  {
   "cell_type": "code",
   "execution_count": 18,
   "metadata": {
    "scrolled": false
   },
   "outputs": [
    {
     "data": {
      "image/png": "[encoded data removed]",
      "text/plain": [
       "<Figure size 720x504 with 1 Axes>"
      ]
     },
     "metadata": {
      "needs_background": "light"
     },
     "output_type": "display_data"
    }
   ],
   "source": [
    "plt.figure(figsize=(10,7))\n",
    "plt.title('R-max (TFlops/s) by year')\n",
    "plt.ylabel('R-Max')\n",
    "by_year.rmax.plot.bar();"
   ]
  },
  {
   "cell_type": "code",
   "execution_count": 19,
   "metadata": {},
   "outputs": [
    {
     "data": {
      "image/png": "[encoded data removed]",
      "text/plain": [
       "<Figure size 720x504 with 1 Axes>"
      ]
     },
     "metadata": {
      "needs_background": "light"
     },
     "output_type": "display_data"
    }
   ],
   "source": [
    "plt.figure(figsize=(10,7))\n",
    "plt.title('R-peak (TFlops/s) by year')\n",
    "plt.ylabel('R-peak')\n",
    "by_year.rpeak.plot.bar();"
   ]
  },
  {
   "cell_type": "code",
   "execution_count": 20,
   "metadata": {},
   "outputs": [
    {
     "data": {
      "image/png": "[encoded data removed]",
      "text/plain": [
       "<Figure size 720x504 with 1 Axes>"
      ]
     },
     "metadata": {
      "needs_background": "light"
     },
     "output_type": "display_data"
    }
   ],
   "source": [
    "plt.figure(figsize=(10,7))\n",
    "plt.title('Cores by year')\n",
    "plt.ylabel('Cores')\n",
    "by_year.cores.plot.bar();"
   ]
  },
  {
   "cell_type": "markdown",
   "metadata": {},
   "source": [
    "R-Max and R-Peak are increasing over the years. However, the cores number in 2018 are less than in previous years."
   ]
  },
  {
   "cell_type": "code",
   "execution_count": null,
   "metadata": {},
   "outputs": [],
   "source": []
  }
 ],
 "metadata": {
  "kernelspec": {
   "display_name": "Python 3",
   "language": "python",
   "name": "python3"
  },
  "language_info": {
   "codemirror_mode": {
    "name": "ipython",
    "version": 3
   },
   "file_extension": ".py",
   "mimetype": "text/x-python",
   "name": "python",
   "nbconvert_exporter": "python",
   "pygments_lexer": "ipython3",
   "version": "3.7.2"
  }
 },
 "nbformat": 4,
 "nbformat_minor": 2
}
