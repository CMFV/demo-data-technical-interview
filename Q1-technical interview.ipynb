{
 "cells": [
  {
   "cell_type": "markdown",
   "metadata": {},
   "source": [
    "# TOP 500 supercomputer mining - Challenge 1\n",
    "\n",
    "# 1-A\n",
    "\n",
    "In this challenge you will mine top500 website to retrieve information on the most powerfull supercomputer of the last years.\n",
    "\n",
    "Your task is to scrape information for the top 500 supercomputers from 2014 to 2018. The information should include:\n",
    "\n",
    "* **Rank**\n",
    "\n",
    "* **Name**\n",
    "\n",
    "* **Year**\n",
    "\n",
    "* **Description**\n",
    "\n",
    "* **Company**\n",
    "\n",
    "* **Country**\n",
    "\n",
    "* **Cores**\n",
    "\n",
    "* **RMax (TFlops/s)**\n",
    "\n",
    "* **RPeak (TFlops/s)**\n",
    "\n",
    "* **Power (kW)**\n",
    "\n",
    "\n",
    "The root url is the following:\n",
    "https://www.top500.org/\n",
    "\n",
    "\n",
    "You need to navigate the web in order to extract all information for 2500 supercomputers. As an example, the first urls are:\n",
    "\n",
    "https://www.top500.org/lists/2014/11/?page=1\n",
    "\n",
    "\n",
    "https://www.top500.org/list/2014/11/?page=2\n",
    "\n",
    "\n",
    "\n",
    "Write code that do the following:\n",
    "1. Look for the url to scrape.\n",
    "2. Make request.\n",
    "3. Return HTML string.\n",
    "4. Parse and extract all features. Create a dictionary with these fields.\n",
    "5. Return a list of dictionaries.\n",
    "\n"
   ]
  },
  {
   "cell_type": "code",
   "execution_count": 1,
   "metadata": {},
   "outputs": [],
   "source": [
    "# Your code here"
   ]
  },
  {
   "cell_type": "code",
   "execution_count": 2,
   "metadata": {},
   "outputs": [],
   "source": [
    "# import libraries\n",
    "import requests as req\n",
    "from bs4 import BeautifulSoup\n",
    "import re\n",
    "import mysql.connector"
   ]
  },
  {
   "cell_type": "code",
   "execution_count": 3,
   "metadata": {},
   "outputs": [],
   "source": [
    "# urls\n",
    "\n",
    "URL='https://www.top500.org/'\n",
    "\n",
    "\n",
    "top_lst=['list/2014/11/?page=1', \n",
    "         'list/2014/11/?page=2',\n",
    "         'list/2014/11/?page=3',\n",
    "         'list/2014/11/?page=4',\n",
    "         'list/2014/11/?page=5',\n",
    "         'list/2015/11/?page=1', \n",
    "         'list/2015/11/?page=2',\n",
    "         'list/2015/11/?page=3',\n",
    "         'list/2015/11/?page=4',\n",
    "         'list/2015/11/?page=5',\n",
    "         'list/2016/11/?page=1', \n",
    "         'list/2016/11/?page=2',\n",
    "         'list/2016/11/?page=3',\n",
    "         'list/2016/11/?page=4',\n",
    "         'list/2016/11/?page=5',\n",
    "         'list/2017/11/?page=1', \n",
    "         'list/2017/11/?page=2',\n",
    "         'list/2017/11/?page=3',\n",
    "         'list/2017/11/?page=4',\n",
    "         'list/2017/11/?page=5',\n",
    "         'list/2018/11/?page=1', \n",
    "         'list/2018/11/?page=2',\n",
    "         'list/2018/11/?page=3',\n",
    "         'list/2018/11/?page=4',\n",
    "         'list/2018/11/?page=5']\n",
    "\n",
    "\n"
   ]
  },
  {
   "cell_type": "code",
   "execution_count": 4,
   "metadata": {},
   "outputs": [],
   "source": [
    "# scraping\n",
    "\n",
    "def scraping(label, url):\n",
    "    \n",
    "    res = req.get(url)\n",
    "    soup = BeautifulSoup(res.text, 'html.parser')\n",
    "    scrap = soup.find_all(label)\n",
    "    \n",
    "    return scrap"
   ]
  },
  {
   "cell_type": "code",
   "execution_count": 5,
   "metadata": {},
   "outputs": [],
   "source": [
    "# all info tables\n",
    "\n",
    "def all_tables(url_lst):\n",
    "    \n",
    "    lst=[]\n",
    "    \n",
    "    for i in range(len(url_lst)):\n",
    "        table=scraping('td', URL+url_lst[i])\n",
    "        for j in range(len(table)):\n",
    "            data=table[j]\n",
    "            lst.append(data)\n",
    "        \n",
    "    return lst"
   ]
  },
  {
   "cell_type": "code",
   "execution_count": 6,
   "metadata": {},
   "outputs": [],
   "source": [
    "info=all_tables(top_lst)"
   ]
  },
  {
   "cell_type": "code",
   "execution_count": 7,
   "metadata": {},
   "outputs": [],
   "source": [
    "# ranking\n",
    "\n",
    "def ranking(lst):\n",
    "    \n",
    "    rank=[]\n",
    "    \n",
    "    for e in lst:\n",
    "        s=str(e).split('span')\n",
    "        if len(s)==3:\n",
    "            rank.append(int(re.findall('[0-9]+',str(str(e).split('span')[1]))[0]))\n",
    "    \n",
    "    return rank"
   ]
  },
  {
   "cell_type": "code",
   "execution_count": 8,
   "metadata": {},
   "outputs": [],
   "source": [
    "# name \n",
    "\n",
    "def name(lst):\n",
    "    \n",
    "    n=[]\n",
    "    \n",
    "    for i in range(len(lst)):\n",
    "        s=str(lst[i]).split('span')\n",
    "        if len(s)==3:\n",
    "            prov=(str(lst[i+2]).split('<a href')[1].split(',')[0].split('>')[1:])\n",
    "            if len(prov[0])==3:\n",
    "                n.append(prov[1].split('<')[0])\n",
    "            else:\n",
    "                n.append(prov[0])\n",
    "    \n",
    "    return n"
   ]
  },
  {
   "cell_type": "code",
   "execution_count": 9,
   "metadata": {},
   "outputs": [],
   "source": [
    "# year\n",
    "\n",
    "def year():\n",
    "    \n",
    "    y=[]\n",
    "\n",
    "    for i in range(2500):\n",
    "        if i<500: y.append(2014)\n",
    "        if i>=500 and i<1000: y.append(2015)\n",
    "        if i>=1000 and i<1500: y.append(2016)\n",
    "        if i>=1500 and i<2000: y.append(2017)\n",
    "        if i>=2000 and i<2500: y.append(2018)\n",
    "            \n",
    "    return y\n",
    "    "
   ]
  },
  {
   "cell_type": "code",
   "execution_count": 10,
   "metadata": {},
   "outputs": [],
   "source": [
    "# description\n",
    "\n",
    "def description(lst):\n",
    "    \n",
    "    d=[]\n",
    "\n",
    "    for i in range(len(lst)):\n",
    "        s=str(lst[i]).split('span')\n",
    "        if len(s)==3:\n",
    "            place=str(lst[i+1]).split('>')[-4].split('<')[0]\n",
    "            model=str(lst[i+2]).split(',')[0].split('>')[-1].split(' ')[-1]\n",
    "            rest=str(lst[i+2]).split(',')[1:]\n",
    "            \n",
    "            if len(rest)==0:\n",
    "                d.append(place+' '+model)\n",
    "            elif len(rest)>1:\n",
    "                d.append(place+' '+model+' '+rest[0]+' '+rest[1].split('\\n')[0])\n",
    "            else:\n",
    "                d.append(place+' '+model+' '+rest[0])\n",
    "    \n",
    "    return d"
   ]
  },
  {
   "cell_type": "code",
   "execution_count": 11,
   "metadata": {},
   "outputs": [],
   "source": [
    "# company\n",
    "\n",
    "def company(lst):\n",
    "    \n",
    "    c=[]\n",
    "    \n",
    "    for i in range(len(lst)):\n",
    "        s=str(lst[i]).split('span')\n",
    "        if len(s)==3:\n",
    "            c.append(str(lst[i+2]).split(',')[-1].split('</br')[-2].split('>')[-1])\n",
    "            \n",
    "    return c"
   ]
  },
  {
   "cell_type": "code",
   "execution_count": 12,
   "metadata": {},
   "outputs": [],
   "source": [
    "# country\n",
    "\n",
    "def country(lst):\n",
    "    \n",
    "    co=[]\n",
    "    \n",
    "    for i in range(len(lst)):\n",
    "        s=str(lst[i]).split('span')\n",
    "        if len(s)==3:\n",
    "            co.append(str(lst[i+1]).split('>')[-2].split('<')[0])\n",
    "    \n",
    "    return co"
   ]
  },
  {
   "cell_type": "code",
   "execution_count": 13,
   "metadata": {},
   "outputs": [],
   "source": [
    "# cores\n",
    "\n",
    "def cores(lst):\n",
    "    \n",
    "    cor=[]\n",
    "    \n",
    "    for i in range(len(lst)):\n",
    "        s=str(lst[i]).split('span')\n",
    "        if len(s)==3:\n",
    "            prov=re.sub(',', '', str(lst[i+3]))\n",
    "            cor.append(int(re.findall('[0-9.]+',prov)[0]))\n",
    "    \n",
    "    return cor"
   ]
  },
  {
   "cell_type": "code",
   "execution_count": 14,
   "metadata": {},
   "outputs": [],
   "source": [
    "# RMax (TFlops/s)\n",
    "\n",
    "def r_max(lst):\n",
    "    \n",
    "    r=[]\n",
    "    \n",
    "    for i in range(len(lst)):\n",
    "        s=str(lst[i]).split('span')\n",
    "        if len(s)==3:\n",
    "            prov=re.sub(',', '', str(lst[i+4]))\n",
    "            r.append(float(re.findall('[0-9.]+',prov)[0]))\n",
    "    \n",
    "    return r"
   ]
  },
  {
   "cell_type": "code",
   "execution_count": 15,
   "metadata": {},
   "outputs": [],
   "source": [
    "# RPeak (TFlops/s)\n",
    "\n",
    "def r_peak(lst):\n",
    "    \n",
    "    r=[]\n",
    "    \n",
    "    for i in range(len(lst)):\n",
    "        s=str(lst[i]).split('span')\n",
    "        if len(s)==3:\n",
    "            prov=re.sub(',', '', str(lst[i+5]))\n",
    "            r.append(float(re.findall('[0-9.]+',prov)[0]))\n",
    "    \n",
    "    return r"
   ]
  },
  {
   "cell_type": "code",
   "execution_count": 16,
   "metadata": {},
   "outputs": [],
   "source": [
    "# power (kW)\n",
    "\n",
    "def power(lst):\n",
    "    \n",
    "    p=[]\n",
    "    \n",
    "    for i in range(len(lst)):\n",
    "        s=str(lst[i]).split('span')\n",
    "        if len(s)==3:\n",
    "            prov=re.sub(',', '', str(lst[i+6]))\n",
    "            number=re.findall('[0-9.]+',prov)\n",
    "            if number==[]:\n",
    "                p.append(0)\n",
    "            else:\n",
    "                p.append(int(number[0]))\n",
    "            \n",
    "    return p"
   ]
  },
  {
   "cell_type": "code",
   "execution_count": 17,
   "metadata": {},
   "outputs": [],
   "source": [
    "# top supercomputers\n",
    "\n",
    "def top_500():\n",
    "    \n",
    "    ran = ranking(info)\n",
    "    n = name(info)\n",
    "    y = year()\n",
    "    desc = description(info)\n",
    "    com = company(info)\n",
    "    coun = country(info)\n",
    "    cor = cores(info)\n",
    "    rmax = r_max(info)\n",
    "    rpeak = r_peak(info)\n",
    "    po = power(info)\n",
    "    \n",
    "    \n",
    "    result=[{'ranking':ran[i], 'name':n[i], 'year':y[i], \n",
    "             'description':desc[i], 'company':com[i], 'country':coun[i],\n",
    "             'cores':cor[i], 'rmax':rmax[i],\n",
    "             'rpeak':rpeak[i], 'power':po[i]} for i in range(len(ran))]\n",
    "    \n",
    "    return result"
   ]
  },
  {
   "cell_type": "code",
   "execution_count": 18,
   "metadata": {},
   "outputs": [
    {
     "data": {
      "text/plain": [
       "{'ranking': 500,\n",
       " 'name': 'Inspur SA5212M4',\n",
       " 'year': 2018,\n",
       " 'description': 'Internet Service A SA5212M4  Xeon E5-2682v4 16C 2.5GHz  10G Ethernet',\n",
       " 'company': 'Inspur',\n",
       " 'country': 'China',\n",
       " 'cores': 45440,\n",
       " 'rmax': 874.8,\n",
       " 'rpeak': 1817.6,\n",
       " 'power': 0}"
      ]
     },
     "execution_count": 18,
     "metadata": {},
     "output_type": "execute_result"
    }
   ],
   "source": [
    "# checking\n",
    "\n",
    "top_500()[-1]"
   ]
  },
  {
   "cell_type": "markdown",
   "metadata": {},
   "source": [
    "\n",
    "# 1-B\n",
    "\n",
    "\n",
    "When you complete this task, you need to save the information in a SQL database. For that:\n",
    "1. Install MySQL and MySQL connector for Python.\n",
    "2. Start MySQL server on your computer. \n",
    "3. Create a new empty database. \n",
    "4. Create a table for store the data. As an example, the table could be:\n",
    " ```sql\n",
    "   CREATE TABLE top_500(\n",
    "           ranking int,\n",
    "           name text, \n",
    "           year int,\n",
    "           description text,\n",
    "           company text,\n",
    "           country text, \n",
    "           cores int, \n",
    "           rmax float,\n",
    "           rpeak float,\n",
    "           power int);\n",
    "```"
   ]
  },
  {
   "cell_type": "code",
   "execution_count": 19,
   "metadata": {},
   "outputs": [],
   "source": [
    "# Your code here"
   ]
  },
  {
   "cell_type": "code",
   "execution_count": 20,
   "metadata": {},
   "outputs": [],
   "source": [
    "# results\n",
    "\n",
    "results=top_500()"
   ]
  },
  {
   "cell_type": "code",
   "execution_count": 21,
   "metadata": {},
   "outputs": [
    {
     "data": {
      "text/plain": [
       "{'ranking': 1,\n",
       " 'name': 'Tianhe-2A',\n",
       " 'year': 2014,\n",
       " 'description': 'National Super Computer Center in Guangzhou Cluster  Intel Xeon E5-2692 12C 2.200GHz  TH Express-2',\n",
       " 'company': 'NUDT',\n",
       " 'country': 'China',\n",
       " 'cores': 3120000,\n",
       " 'rmax': 33862.7,\n",
       " 'rpeak': 54902.4,\n",
       " 'power': 17808}"
      ]
     },
     "execution_count": 21,
     "metadata": {},
     "output_type": "execute_result"
    }
   ],
   "source": [
    "# checking\n",
    "\n",
    "results[0]"
   ]
  },
  {
   "cell_type": "code",
   "execution_count": 22,
   "metadata": {},
   "outputs": [],
   "source": [
    "# create sql database\n",
    "\n",
    "create_db = mysql.connector.connect(host='localhost', user='admin', passwd='password')\n",
    "\n",
    "cursor = create_db.cursor()\n",
    "\n",
    "cursor.execute('drop database if exists SuperComputers')\n",
    "cursor.execute('create database SuperComputers')"
   ]
  },
  {
   "cell_type": "code",
   "execution_count": 23,
   "metadata": {},
   "outputs": [
    {
     "name": "stdout",
     "output_type": "stream",
     "text": [
      "('information_schema',)\n",
      "('Apps',)\n",
      "('Q3',)\n",
      "('SuperComputers',)\n",
      "('lab-mysql',)\n",
      "('mydb',)\n",
      "('mysql',)\n",
      "('performance_schema',)\n",
      "('publis',)\n",
      "('sys',)\n"
     ]
    }
   ],
   "source": [
    "# checking\n",
    "\n",
    "cursor.execute('show databases')\n",
    "for x in cursor:\n",
    "  print(x) "
   ]
  },
  {
   "cell_type": "code",
   "execution_count": 24,
   "metadata": {},
   "outputs": [],
   "source": [
    "# connect to database\n",
    "\n",
    "db = mysql.connector.connect(host='localhost', user='admin', passwd='password', database='SuperComputers')\n",
    "\n",
    "cursor = db.cursor()"
   ]
  },
  {
   "cell_type": "code",
   "execution_count": 25,
   "metadata": {},
   "outputs": [],
   "source": [
    "# create table\n",
    "\n",
    "\n",
    "cursor.execute('use SuperComputers;')\n",
    "\n",
    "cursor.execute(\"drop table if exists top_500;\") \n",
    "\n",
    "table = '''create table top_500(\n",
    "           ranking int,\n",
    "           name text, \n",
    "           year int,\n",
    "           description text,\n",
    "           company text,\n",
    "           country text, \n",
    "           cores int, \n",
    "           rmax float,\n",
    "           rpeak float,\n",
    "           power int);'''\n",
    "\n",
    "cursor.execute(table)\n"
   ]
  },
  {
   "cell_type": "code",
   "execution_count": 26,
   "metadata": {},
   "outputs": [
    {
     "name": "stdout",
     "output_type": "stream",
     "text": [
      "('top_500',)\n"
     ]
    }
   ],
   "source": [
    "# checking\n",
    "\n",
    "cursor.execute('show tables')\n",
    "for x in cursor:\n",
    "  print(x) "
   ]
  },
  {
   "cell_type": "code",
   "execution_count": 27,
   "metadata": {},
   "outputs": [],
   "source": [
    "# insert query\n",
    "\n",
    "for i in range(len(results)):\n",
    "    insert_query = 'insert into {} ({}) values {};'\\\n",
    "                   .format('top_500', ','.join(results[i].keys()), tuple(results[i].values()))\n",
    "\n",
    "    cursor.execute(insert_query)\n",
    "    \n",
    "db.commit()"
   ]
  },
  {
   "cell_type": "code",
   "execution_count": 28,
   "metadata": {},
   "outputs": [
    {
     "name": "stdout",
     "output_type": "stream",
     "text": [
      "(1, 'Tianhe-2A', 2014, 'National Super Computer Center in Guangzhou Cluster  Intel Xeon E5-2692 12C 2.200GHz  TH Express-2', 'NUDT', 'China', 3120000, 33862.7, 54902.4, 17808)\n",
      "(2, 'Titan', 2014, 'DOE/SC/Oak Ridge National Laboratory XK7  Opteron 6274 16C 2.200GHz  Cray Gemini interconnect', 'Cray Inc.', 'United States', 560640, 17590.0, 27112.5, 8209)\n"
     ]
    }
   ],
   "source": [
    "# checking\n",
    "\n",
    "cursor.execute('select * from top_500 limit 2')\n",
    "for x in cursor:\n",
    "  print(x) "
   ]
  }
 ],
 "metadata": {
  "kernelspec": {
   "display_name": "Python 3",
   "language": "python",
   "name": "python3"
  },
  "language_info": {
   "codemirror_mode": {
    "name": "ipython",
    "version": 3
   },
   "file_extension": ".py",
   "mimetype": "text/x-python",
   "name": "python",
   "nbconvert_exporter": "python",
   "pygments_lexer": "ipython3",
   "version": "3.7.2"
  }
 },
 "nbformat": 4,
 "nbformat_minor": 2
}
